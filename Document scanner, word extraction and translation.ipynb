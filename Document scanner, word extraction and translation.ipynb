{
 "cells": [
  {
   "cell_type": "markdown",
   "metadata": {},
   "source": [
    "# Document Scanning"
   ]
  },
  {
   "cell_type": "code",
   "execution_count": 1,
   "metadata": {},
   "outputs": [],
   "source": [
    "  \n",
    "import cv2\n",
    "import numpy as np\n",
    "import mapper\n",
    "image=cv2.imread(\"3.jpg\")   #read in the image\n",
    "image=cv2.resize(image,(1300,800)) #resizing because opencv does not work well with bigger images\n",
    "orig=image.copy()\n",
    "\n",
    "gray=cv2.cvtColor(image,cv2.COLOR_BGR2GRAY)  #RGB To Gray Scale\n",
    "cv2.imshow(\"Title\",gray)\n",
    "\n",
    "blurred=cv2.GaussianBlur(gray,(5,5),0)  #(5,5) is the kernel size and 0 is sigma that determines the amount of blur\n",
    "cv2.imshow(\"Blur\",blurred)\n",
    "\n",
    "edged=cv2.Canny(blurred,30,50)  #30 MinThreshold and 50 is the MaxThreshold\n",
    "cv2.imshow(\"Canny\",edged)\n",
    "\n",
    "\n",
    "contours,hierarchy=cv2.findContours(edged,cv2.RETR_LIST,cv2.CHAIN_APPROX_SIMPLE)  #retrieve the contours as a list, with simple apprximation model\n",
    "contours=sorted(contours,key=cv2.contourArea,reverse=True)\n",
    "\n",
    "#the loop extracts the boundary contours of the page\n",
    "for c in contours:\n",
    "    p=cv2.arcLength(c,True)\n",
    "    approx=cv2.approxPolyDP(c,0.02*p,True)\n",
    "\n",
    "    if len(approx)==4:\n",
    "        target=approx\n",
    "        break\n",
    "approx=mapper.mapp(target) #find endpoints of the sheet\n",
    "\n",
    "pts=np.float32([[0,0],[800,0],[800,800],[0,800]])  #map to 800*800 target window\n",
    "\n",
    "op=cv2.getPerspectiveTransform(approx,pts)  #get the top or bird eye view effect\n",
    "dst=cv2.warpPerspective(orig,op,(800,800))\n",
    "\n",
    "\n",
    "cv2.imshow(\"Scanned\",dst)\n",
    "cv2.imwrite('hindi.jpg',dst)\n",
    "# press q or Esc to close\n",
    "cv2.waitKey(0)\n",
    "cv2.destroyAllWindows()"
   ]
  },
  {
   "cell_type": "code",
   "execution_count": 2,
   "metadata": {},
   "outputs": [
    {
     "name": "stdout",
     "output_type": "stream",
     "text": [
      "यूरो कप में ग्रुप & 2५४ व ऑफ डेथ के चौथे\n",
      "मुकाबले में जर्मनी ने को 4-2 से हरा\n",
      "दिया है। म्यूनिख के एलियांज ऊरेना में खेले गए\n",
      "इस मैच में जर्मनी की ओर से काई हैवर्त्ज और\n",
      "रॉबिन गोसेन्स ने 2 गोल दागे। जबकि, पुर्तगाल\n",
      "के राफेल गुरेरो और रुबेन डियास ने 2\n",
      "आत्मघाती गोल किया। पुर्तगाल की ओर से\n",
      "क्रिस्टियानो रोनाल्‍डो और छिएगो जोटा ने गोल\n",
      "दागे।\n",
      "\n",
      "2000 के बाद से पुर्तगाल कभी भी बार जर्मनी\n",
      "को नहीं हरा सकी है। दोनों के बीच इस दौरान\n",
      "कुल 5 मैच हुए और पांचों मैच जर्मनी ने जीते।\n",
      "दोनों टीमों के बीच पिछले 6 मैच में 23 गोल\n",
      "पड़े हैं। यानी एक मैच में 3.9 गोल दागे गए। |\n",
      "इसमें से 5 मैच में दोनों टीमों को मिलाकर 3+\n",
      "गोल पड़े। पर्व आल यो, कप की छिफेंडिंग\n",
      "चैंपियन है। वहीं, और स्पेन सबसे ज्यादा\n",
      "3 बार की यूरो चैंपियन है।\n",
      "\f",
      "\n"
     ]
    },
    {
     "data": {
      "text/plain": [
       "-1"
      ]
     },
     "execution_count": 2,
     "metadata": {},
     "output_type": "execute_result"
    }
   ],
   "source": [
    "import cv2\n",
    "import pytesseract\n",
    "from PIL import Image\n",
    "pytesseract.pytesseract.tesseract_cmd ='C:\\\\Program Files\\\\Tesseract-OCR\\\\tesseract.exe'\n",
    "img = cv2.imread('hindi.jpg')\n",
    "#img = cv2.cvtColor(img,cv2.COLOR_BGR2GRAY)\n",
    "a=print(pytesseract.image_to_string(Image.open('hindi.jpg'), lang='hin'))\n",
    "#print(pytesseract.image_to_string(img))\n",
    "cv2.imshow('Result',img)\n",
    "cv2.waitKey(0)"
   ]
  },
  {
   "cell_type": "code",
   "execution_count": 3,
   "metadata": {},
   "outputs": [
    {
     "name": "stdout",
     "output_type": "stream",
     "text": [
      "In the fourth match of Group & 254 & Off Death in Euro Cup, Germany defeated Germany 4-2. Kai Havertz and Robin Gosens scored 2 goals for Germany in this match played at the Allianz Urena in Munich. Whereas, Portugal&#39;s Rafael Guerrero and Ruben Dias scored 2 suicide goals. Cristiano Ronaldo and Chiego Jota scored for Portugal.\n"
     ]
    }
   ],
   "source": [
    "from translate import Translator\n",
    "translator= Translator(from_lang=\"hindi\",to_lang=\"english\")\n",
    "translation = translator.translate(\"यूरो कप में ग्रुप & 2५४ व ऑफ डेथ के चौथे मुकाबले में जर्मनी ने को 4-2 से हरा दिया है। म्यूनिख के एलियांज ऊरेना में खेले गए इस मैच में जर्मनी की ओर से काई हैवर्त्ज और रॉबिन गोसेन्स ने 2 गोल दागे। जबकि, पुर्तगाल के राफेल गुरेरो और रुबेन डियास ने 2 आत्मघाती गोल किया। पुर्तगाल की ओर से क्रिस्टियानो रोनाल्‍डो और छिएगो जोटा ने गोल दागे।ा\")\n",
    "print (translation)\n",
    "b = translation"
   ]
  },
  {
   "cell_type": "code",
   "execution_count": null,
   "metadata": {},
   "outputs": [],
   "source": []
  }
 ],
 "metadata": {
  "kernelspec": {
   "display_name": "Python 3",
   "language": "python",
   "name": "python3"
  },
  "language_info": {
   "codemirror_mode": {
    "name": "ipython",
    "version": 3
   },
   "file_extension": ".py",
   "mimetype": "text/x-python",
   "name": "python",
   "nbconvert_exporter": "python",
   "pygments_lexer": "ipython3",
   "version": "3.8.5"
  }
 },
 "nbformat": 4,
 "nbformat_minor": 4
}
